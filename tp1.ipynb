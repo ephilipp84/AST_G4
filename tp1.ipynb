{
 "cells": [
  {
   "cell_type": "markdown",
   "metadata": {},
   "source": [
    "# TP1 - Grupo 4"
   ]
  },
  {
   "cell_type": "code",
   "execution_count": 1,
   "metadata": {},
   "outputs": [],
   "source": [
    "import pandas as pd\n",
    "import json\n",
    "import requests"
   ]
  },
  {
   "cell_type": "markdown",
   "metadata": {},
   "source": [
    "# Market Price (USD)\n",
    "\n",
    "Represents The average USD market price across major bitcoin exchanges (MKPRU)\n",
    "\n",
    "https://www.blockchain.com/explorer/charts/market-price"
   ]
  },
  {
   "cell_type": "code",
   "execution_count": 11,
   "metadata": {},
   "outputs": [],
   "source": [
    "# URL del archivo JSON en línea\n",
    "url = \"https://api.blockchain.info/charts/market-price?timespan=5years&format=json\" # Comparar el url generado por la gráfica\n",
    "\n",
    "# Descarga el contenido del archivo JSON\n",
    "response = requests.get(url)"
   ]
  },
  {
   "cell_type": "code",
   "execution_count": 12,
   "metadata": {},
   "outputs": [
    {
     "name": "stdout",
     "output_type": "stream",
     "text": [
      "                          x        y\n",
      "0 2018-11-09 00:00:00+00:00  6444.97\n",
      "1 2018-11-10 00:00:00+00:00  6377.40\n",
      "2 2018-11-11 00:00:00+00:00  6388.46\n",
      "3 2018-11-12 00:00:00+00:00  6408.53\n",
      "4 2018-11-13 00:00:00+00:00  6384.75\n"
     ]
    }
   ],
   "source": [
    "# Verifica si la descarga fue exitosa (código de estado 200)\n",
    "if response.status_code == 200:\n",
    "    # Carga el contenido JSON en un DataFrame de pandas\n",
    "    json_data = response.json()\n",
    "    MKPRU = pd.DataFrame(json_data[\"values\"])\n",
    "    \n",
    "    # Convierte la columna \"X\" en objetos de fecha y hora según horario UTC\n",
    "    MKPRU[\"x\"] = pd.to_datetime(MKPRU[\"x\"], unit=\"s\", utc=True)\n",
    "\n",
    "    # Ahora puedes trabajar con el DataFrame \"df\" que contiene los datos del archivo JSON\n",
    "    print(MKPRU.head())\n",
    "else:\n",
    "    print(\"Error al descargar el archivo JSON. Código de estado:\", response.status_code)"
   ]
  },
  {
   "cell_type": "markdown",
   "metadata": {},
   "source": [
    "# Unique Addresses Used \n",
    "\n",
    "The total number of unique addresses used on the blockchain.\n",
    "\n",
    "Change in the Number of unique addresses (NADDU)\n",
    "\n",
    "https://www.blockchain.com/explorer/charts/n-unique-addresses"
   ]
  },
  {
   "cell_type": "code",
   "execution_count": 6,
   "metadata": {},
   "outputs": [],
   "source": [
    "# URL del archivo JSON en línea\n",
    "url = \"https://api.blockchain.info/charts/n-unique-addresses?timespan=5years&format=json\"\n",
    "\n",
    "# Descarga el contenido del archivo JSON\n",
    "response = requests.get(url)"
   ]
  },
  {
   "cell_type": "code",
   "execution_count": 7,
   "metadata": {},
   "outputs": [
    {
     "name": "stdout",
     "output_type": "stream",
     "text": [
      "                          x         y\n",
      "0 2018-11-09 00:00:00+00:00  541364.0\n",
      "1 2018-11-10 00:00:00+00:00  448643.0\n",
      "2 2018-11-11 00:00:00+00:00  422963.0\n",
      "3 2018-11-12 00:00:00+00:00  510342.0\n",
      "4 2018-11-13 00:00:00+00:00  491741.0\n"
     ]
    }
   ],
   "source": [
    "# Verifica si la descarga fue exitosa (código de estado 200)\n",
    "if response.status_code == 200:\n",
    "    # Carga el contenido JSON en un DataFrame de pandas\n",
    "    json_data = response.json()\n",
    "    NADDU = pd.DataFrame(json_data[\"values\"])\n",
    "    \n",
    "    # Convierte la columna \"X\" en objetos de fecha y hora según horario UTC\n",
    "    NADDU[\"x\"] = pd.to_datetime(NADDU[\"x\"], unit=\"s\", utc=True)\n",
    "\n",
    "    # Ahora puedes trabajar con el DataFrame \"df\" que contiene los datos del archivo JSON\n",
    "    print(NADDU.head())\n",
    "else:\n",
    "    print(\"Error al descargar el archivo JSON. Código de estado:\", response.status_code)"
   ]
  },
  {
   "cell_type": "markdown",
   "metadata": {},
   "source": [
    "# Total Circulating Bitcoin \n",
    "\n",
    "The total BTC available in the market to date, as there is a limited amount of BTC available at 21,000,000 (TOTBC)\n",
    "\n",
    "https://www.blockchain.com/explorer/charts/total-bitcoins"
   ]
  },
  {
   "cell_type": "code",
   "execution_count": 9,
   "metadata": {},
   "outputs": [],
   "source": [
    "# URL del archivo JSON en línea\n",
    "url = \"https://api.blockchain.info/charts/total-bitcoins?timespan=5years&format=json\"\n",
    "\n",
    "# Descarga el contenido del archivo JSON\n",
    "response = requests.get(url)"
   ]
  },
  {
   "cell_type": "code",
   "execution_count": 10,
   "metadata": {},
   "outputs": [
    {
     "name": "stdout",
     "output_type": "stream",
     "text": [
      "                          x           y\n",
      "0 2018-11-09 00:08:29+00:00  17366487.5\n",
      "1 2018-11-10 09:58:04+00:00  17368700.0\n",
      "2 2018-11-11 15:52:18+00:00  17370937.5\n",
      "3 2018-11-12 22:45:36+00:00  17373162.5\n",
      "4 2018-11-14 07:08:27+00:00  17375375.0\n"
     ]
    }
   ],
   "source": [
    "# Verifica si la descarga fue exitosa (código de estado 200)\n",
    "if response.status_code == 200:\n",
    "    # Carga el contenido JSON en un DataFrame de pandas\n",
    "    json_data = response.json()\n",
    "    TOTBC = pd.DataFrame(json_data[\"values\"])\n",
    "    \n",
    "    # Convierte la columna \"X\" en objetos de fecha y hora según horario UTC\n",
    "    TOTBC[\"x\"] = pd.to_datetime(TOTBC[\"x\"], unit=\"s\", utc=True)\n",
    "\n",
    "    # Ahora puedes trabajar con el DataFrame \"df\" que contiene los datos del archivo JSON\n",
    "    print(TOTBC.head())\n",
    "else:\n",
    "    print(\"Error al descargar el archivo JSON. Código de estado:\", response.status_code)"
   ]
  }
 ],
 "metadata": {
  "kernelspec": {
   "display_name": "Python 3",
   "language": "python",
   "name": "python3"
  },
  "language_info": {
   "codemirror_mode": {
    "name": "ipython",
    "version": 3
   },
   "file_extension": ".py",
   "mimetype": "text/x-python",
   "name": "python",
   "nbconvert_exporter": "python",
   "pygments_lexer": "ipython3",
   "version": "3.10.8"
  }
 },
 "nbformat": 4,
 "nbformat_minor": 2
}
